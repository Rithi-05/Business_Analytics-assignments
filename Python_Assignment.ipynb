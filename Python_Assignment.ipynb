{
  "nbformat": 4,
  "nbformat_minor": 0,
  "metadata": {
    "colab": {
      "provenance": []
    },
    "kernelspec": {
      "name": "python3",
      "display_name": "Python 3"
    },
    "language_info": {
      "name": "python"
    }
  },
  "cells": [
    {
      "cell_type": "markdown",
      "source": [
        "1) Create a Login Function "
      ],
      "metadata": {
        "id": "2uA5kE-_UgHJ"
      }
    },
    {
      "cell_type": "code",
      "execution_count": 1,
      "metadata": {
        "colab": {
          "base_uri": "https://localhost:8080/"
        },
        "id": "89JiY-1ZUSEp",
        "outputId": "c915bbf5-13da-4f59-9cf3-d82900b9dc39"
      },
      "outputs": [
        {
          "output_type": "stream",
          "name": "stdout",
          "text": [
            "Enter the username rithi\n",
            "Enter the password rithi1023\n",
            "Enter the confirm password riyjjd\n",
            "Login Failed\n"
          ]
        }
      ],
      "source": [
        "def login():\n",
        "  username = input (\"Enter the username \")\n",
        "  password = input (\"Enter the password \")\n",
        "  confirm_password = input (\"Enter the confirm password \")\n",
        "  if(password == confirm_password ):\n",
        "    print(\"Login Successful\")\n",
        "  else:\n",
        "    print(\"Login Failed\")\n",
        "login()\n"
      ]
    },
    {
      "cell_type": "markdown",
      "source": [
        "2) Write A Program to Find Even And Odd Numbers"
      ],
      "metadata": {
        "id": "gq55mWCSU_8T"
      }
    },
    {
      "cell_type": "code",
      "source": [
        "num = int(input (\"Enter the num \"))\n",
        "if (num % 2) == 0:\n",
        "    print(\"The number is even \")\n",
        "else:\n",
        "    print(\"The number is odd\")\n"
      ],
      "metadata": {
        "colab": {
          "base_uri": "https://localhost:8080/"
        },
        "id": "2-XFhAe-Uez3",
        "outputId": "4ceb93a2-00b8-44ec-8b73-d1adcff119ce"
      },
      "execution_count": 2,
      "outputs": [
        {
          "output_type": "stream",
          "name": "stdout",
          "text": [
            "Enter the num 9\n",
            "The number is odd\n"
          ]
        }
      ]
    },
    {
      "cell_type": "markdown",
      "source": [
        "3)Create A List Of Fruits And Iterate Through Them"
      ],
      "metadata": {
        "id": "BYqYwJedVWID"
      }
    },
    {
      "cell_type": "code",
      "source": [
        "fruits=['Mulberry','Raspberry','Watermelon','Mandarin','Pineapple']\n",
        "for i in fruits:\n",
        "  print(i)\n"
      ],
      "metadata": {
        "colab": {
          "base_uri": "https://localhost:8080/"
        },
        "id": "nfY9NBJGVaPw",
        "outputId": "a783a615-058f-40cd-dc02-fdc9a5d5b84a"
      },
      "execution_count": 3,
      "outputs": [
        {
          "output_type": "stream",
          "name": "stdout",
          "text": [
            "Mulberry\n",
            "Raspberry\n",
            "Watermelon\n",
            "Mandarin\n",
            "Pineapple\n"
          ]
        }
      ]
    }
  ]
}